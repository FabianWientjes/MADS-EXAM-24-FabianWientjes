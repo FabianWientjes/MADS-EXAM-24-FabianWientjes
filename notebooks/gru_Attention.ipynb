{
 "cells": [
  {
   "cell_type": "code",
   "execution_count": 29,
   "metadata": {},
   "outputs": [
    {
     "data": {
      "text/plain": [
       "'0.1.128'"
      ]
     },
     "execution_count": 29,
     "metadata": {},
     "output_type": "execute_result"
    }
   ],
   "source": [
    "from mads_datasets.base import BaseDatastreamer\n",
    "from mltrainer.preprocessors import BasePreprocessor\n",
    "from mltrainer import Trainer\n",
    "import matplotlib.pyplot as plt\n",
    "from pathlib import Path\n",
    "import pandas as pd\n",
    "import seaborn as sns\n",
    "from sklearn.metrics import confusion_matrix\n",
    "from torch import nn\n",
    "from torch.optim.lr_scheduler import ReduceLROnPlateau\n",
    "import torch\n",
    "import math\n",
    "\n",
    "import sys\n",
    "\n",
    "sys.path.append(\"../\")\n",
    "from src import datasets, metrics\n",
    "import mltrainer\n",
    "\n",
    "mltrainer.__version__"
   ]
  },
  {
   "cell_type": "code",
   "execution_count": 30,
   "metadata": {},
   "outputs": [],
   "source": [
    "trainfile = Path(\"../data/heart_train.parq\").resolve()\n",
    "testfile = Path(\"../data/heart_test.parq\").resolve()\n",
    "# trainfile = Path('../data/heart_big_train.parq').resolve()\n",
    "# testfile = Path('../data/heart_big_test.parq').resolve()"
   ]
  },
  {
   "cell_type": "code",
   "execution_count": 31,
   "metadata": {},
   "outputs": [
    {
     "data": {
      "text/plain": [
       "(Heartdataset (len 11641), Heartdataset (len 2911))"
      ]
     },
     "execution_count": 31,
     "metadata": {},
     "output_type": "execute_result"
    }
   ],
   "source": [
    "traindataset = datasets.HeartDataset1D(trainfile, target=\"target\")\n",
    "testdataset = datasets.HeartDataset1D(testfile, target=\"target\")\n",
    "traindataset, testdataset\n",
    "\n",
    "# moving to mps device crashes the jypyter kernel, not sure why"
   ]
  },
  {
   "cell_type": "code",
   "execution_count": 32,
   "metadata": {},
   "outputs": [
    {
     "data": {
      "text/plain": [
       "(363, 90)"
      ]
     },
     "execution_count": 32,
     "metadata": {},
     "output_type": "execute_result"
    }
   ],
   "source": [
    "trainstreamer = BaseDatastreamer(\n",
    "    traindataset, preprocessor=BasePreprocessor(), batchsize=32\n",
    ")\n",
    "teststreamer = BaseDatastreamer(\n",
    "    testdataset, preprocessor=BasePreprocessor(), batchsize=32\n",
    ")\n",
    "len(trainstreamer), len(teststreamer)"
   ]
  },
  {
   "cell_type": "code",
   "execution_count": 33,
   "metadata": {},
   "outputs": [],
   "source": [
    "class GRUBlock(nn.Module):\n",
    "    def __init__(self, hidden_size, num_heads, dropout):\n",
    "        super(GRUBlock, self).__init__()\n",
    "        self.gru = nn.GRU(\n",
    "            input_size=hidden_size,\n",
    "            hidden_size=hidden_size,\n",
    "            batch_first=True,\n",
    "        )\n",
    "        self.attention = nn.MultiheadAttention(\n",
    "            embed_dim=hidden_size, num_heads=num_heads, batch_first=True\n",
    "        )\n",
    "        self.ff = nn.Sequential(\n",
    "            nn.Linear(hidden_size, hidden_size),\n",
    "            nn.ReLU(),\n",
    "            nn.Dropout(dropout),\n",
    "            nn.Linear(hidden_size, hidden_size),\n",
    "        )\n",
    "        self.layer_norm1 = nn.LayerNorm(hidden_size)\n",
    "        self.layer_norm2 = nn.LayerNorm(hidden_size)\n",
    "        self.layer_norm3 = nn.LayerNorm(hidden_size)\n",
    "\n",
    "    def forward(self, x):\n",
    "        identity = x.clone()  # skip connection\n",
    "        x, _ = self.gru(x)\n",
    "        x = self.layer_norm1(x + identity)  # Add & Norm skip\n",
    "\n",
    "        identity = x.clone()  # second skip connection\n",
    "        x, _ = self.attention(x, x, x)  # Apply attention\n",
    "        x = self.layer_norm2(x + identity)  # Add & Norm skip\n",
    "\n",
    "        identity = x.clone()  # third skip connection\n",
    "        x = self.ff(x)\n",
    "        x = self.layer_norm3(x + identity)  # Add & Norm skip\n",
    "        return x\n",
    "\n",
    "\n",
    "class GRUModel(nn.Module):\n",
    "    def __init__(self, config: dict) -> None:\n",
    "        super().__init__()\n",
    "        self.conv1d = nn.Conv1d(\n",
    "            in_channels=1,\n",
    "            out_channels=config[\"hidden\"],\n",
    "            kernel_size=3,\n",
    "            stride=2,\n",
    "            padding=1,\n",
    "        )\n",
    "\n",
    "        # Create multiple GRU blocks\n",
    "        self.gru_blocks = nn.ModuleList(\n",
    "            [\n",
    "                GRUBlock(config[\"hidden\"], config[\"num_heads\"], config[\"dropout\"])\n",
    "                for _ in range(config[\"num_blocks\"])\n",
    "            ]\n",
    "        )\n",
    "\n",
    "        self.out = nn.Linear(config[\"hidden\"], config[\"output\"])\n",
    "\n",
    "    def forward(self, x: torch.Tensor) -> torch.Tensor:\n",
    "        # streamer: (batch, seq_len, channels)\n",
    "        # conv1d:   (batch, channels, seq_len)\n",
    "        # gru:      (batch, seq_len, channels)\n",
    "        x = self.conv1d(x.transpose(1, 2))  # flip channels and seq_len for conv1d\n",
    "        x = x.transpose(1, 2)  # flip back to seq_len and channels\n",
    "\n",
    "        # Apply multiple GRU blocks\n",
    "        for gru_block in self.gru_blocks:\n",
    "            x = gru_block(x)\n",
    "\n",
    "        x = x.mean(dim=1)  # Global Average Pooling\n",
    "        x = self.out(x)\n",
    "        return x"
   ]
  },
  {
   "cell_type": "code",
   "execution_count": 34,
   "metadata": {},
   "outputs": [],
   "source": [
    "from src import models\n",
    "\n",
    "config = {\"hidden\": 128, \"dropout\": 0.2, \"output\": 2, \"num_heads\": 4, \"num_blocks\": 5}\n",
    "model = models.GRUModel(config)"
   ]
  },
  {
   "cell_type": "code",
   "execution_count": 35,
   "metadata": {},
   "outputs": [
    {
     "data": {
      "text/plain": [
       "(torch.Size([32, 192, 1]), torch.Size([32]))"
      ]
     },
     "execution_count": 35,
     "metadata": {},
     "output_type": "execute_result"
    }
   ],
   "source": [
    "x, y = next(trainstreamer.stream())\n",
    "x.shape, y.shape"
   ]
  },
  {
   "cell_type": "code",
   "execution_count": 36,
   "metadata": {},
   "outputs": [
    {
     "data": {
      "text/plain": [
       "torch.Size([32, 2])"
      ]
     },
     "execution_count": 36,
     "metadata": {},
     "output_type": "execute_result"
    }
   ],
   "source": [
    "yhat = model(x)\n",
    "yhat.shape"
   ]
  },
  {
   "cell_type": "code",
   "execution_count": 37,
   "metadata": {},
   "outputs": [],
   "source": [
    "f1micro = metrics.F1Score(average=\"micro\")\n",
    "f1macro = metrics.F1Score(average=\"macro\")\n",
    "precision = metrics.Precision(\"micro\")\n",
    "recall = metrics.Recall(\"macro\")\n",
    "accuracy = metrics.Accuracy()"
   ]
  },
  {
   "cell_type": "code",
   "execution_count": 38,
   "metadata": {},
   "outputs": [
    {
     "data": {
      "text/plain": [
       "<Experiment: artifact_location='/home/azureuser/code/mads-exam-24/notebooks/mlruns/5', creation_time=1719408284529, experiment_id='5', last_update_time=1719408284529, lifecycle_stage='active', name='Gru_Attention', tags={}>"
      ]
     },
     "execution_count": 38,
     "metadata": {},
     "output_type": "execute_result"
    }
   ],
   "source": [
    "import mlflow\n",
    "\n",
    "mlflow.set_tracking_uri(\"sqlite:///mads_exam.db\")\n",
    "mlflow.set_experiment(\"Gru_Attention\")"
   ]
  },
  {
   "cell_type": "code",
   "execution_count": 39,
   "metadata": {},
   "outputs": [
    {
     "name": "stderr",
     "output_type": "stream",
     "text": [
      "\u001b[32m2024-06-29 13:22:40.100\u001b[0m | \u001b[1mINFO    \u001b[0m | \u001b[36mmltrainer.trainer\u001b[0m:\u001b[36mdir_add_timestamp\u001b[0m:\u001b[36m29\u001b[0m - \u001b[1mLogging to heart1D/20240629-132240\u001b[0m\n",
      "100%|\u001b[38;2;30;71;6m██████████\u001b[0m| 363/363 [05:23<00:00,  1.12it/s]\n",
      "\u001b[32m2024-06-29 13:28:32.741\u001b[0m | \u001b[1mINFO    \u001b[0m | \u001b[36mmltrainer.trainer\u001b[0m:\u001b[36mreport\u001b[0m:\u001b[36m191\u001b[0m - \u001b[1mEpoch 0 train 0.5513 test 0.4569 metric ['0.7399', '0.7399', '0.6847', '0.7399', '0.7082']\u001b[0m\n",
      "100%|\u001b[38;2;30;71;6m██████████\u001b[0m| 363/363 [05:39<00:00,  1.07it/s]\n",
      "\u001b[32m2024-06-29 13:34:28.206\u001b[0m | \u001b[1mINFO    \u001b[0m | \u001b[36mmltrainer.trainer\u001b[0m:\u001b[36mreport\u001b[0m:\u001b[36m191\u001b[0m - \u001b[1mEpoch 1 train 0.3944 test 0.3474 metric ['0.8493', '0.8493', '0.7956', '0.8493', '0.7924']\u001b[0m\n",
      "100%|\u001b[38;2;30;71;6m██████████\u001b[0m| 363/363 [05:22<00:00,  1.13it/s]\n",
      "\u001b[32m2024-06-29 13:40:25.985\u001b[0m | \u001b[1mINFO    \u001b[0m | \u001b[36mmltrainer.trainer\u001b[0m:\u001b[36mreport\u001b[0m:\u001b[36m191\u001b[0m - \u001b[1mEpoch 2 train 0.2664 test 0.3642 metric ['0.8406', '0.8406', '0.8188', '0.8406', '0.8782']\u001b[0m\n",
      "100%|\u001b[38;2;30;71;6m██████████\u001b[0m| 363/363 [04:31<00:00,  1.34it/s]\n",
      "\u001b[32m2024-06-29 13:45:29.397\u001b[0m | \u001b[1mINFO    \u001b[0m | \u001b[36mmltrainer.trainer\u001b[0m:\u001b[36mreport\u001b[0m:\u001b[36m191\u001b[0m - \u001b[1mEpoch 3 train 0.1941 test 0.1802 metric ['0.9413', '0.9413', '0.9206', '0.9413', '0.9131']\u001b[0m\n",
      "100%|\u001b[38;2;30;71;6m██████████\u001b[0m| 363/363 [34:46<00:00,  5.75s/it]\n",
      "\u001b[32m2024-06-29 14:27:03.672\u001b[0m | \u001b[1mINFO    \u001b[0m | \u001b[36mmltrainer.trainer\u001b[0m:\u001b[36mreport\u001b[0m:\u001b[36m191\u001b[0m - \u001b[1mEpoch 4 train 0.1338 test 0.1455 metric ['0.9510', '0.9510', '0.9375', '0.9510', '0.9414']\u001b[0m\n",
      "100%|\u001b[38;2;30;71;6m██████████\u001b[0m| 363/363 [32:12<00:00,  5.32s/it]it]\n",
      "\u001b[32m2024-06-29 14:59:39.637\u001b[0m | \u001b[1mINFO    \u001b[0m | \u001b[36mmltrainer.trainer\u001b[0m:\u001b[36mreport\u001b[0m:\u001b[36m191\u001b[0m - \u001b[1mEpoch 5 train 0.1138 test 0.1204 metric ['0.9576', '0.9576', '0.9476', '0.9576', '0.9567']\u001b[0m\n",
      "100%|\u001b[38;2;30;71;6m██████████\u001b[0m| 363/363 [44:01<00:00,  7.28s/it]it]\n",
      "\u001b[32m2024-06-29 15:50:11.867\u001b[0m | \u001b[1mINFO    \u001b[0m | \u001b[36mmltrainer.trainer\u001b[0m:\u001b[36mreport\u001b[0m:\u001b[36m191\u001b[0m - \u001b[1mEpoch 6 train 0.0867 test 0.0793 metric ['0.9750', '0.9750', '0.9680', '0.9750', '0.9677']\u001b[0m\n",
      "100%|\u001b[38;2;30;71;6m██████████\u001b[0m| 363/363 [14:06<00:00,  2.33s/it]it]\n",
      "\u001b[32m2024-06-29 16:04:50.523\u001b[0m | \u001b[1mINFO    \u001b[0m | \u001b[36mmltrainer.trainer\u001b[0m:\u001b[36mreport\u001b[0m:\u001b[36m191\u001b[0m - \u001b[1mEpoch 7 train 0.0687 test 0.0763 metric ['0.9733', '0.9733', '0.9640', '0.9733', '0.9581']\u001b[0m\n",
      "100%|\u001b[38;2;30;71;6m██████████\u001b[0m| 363/363 [05:56<00:00,  1.02it/s]]  \n",
      "\u001b[32m2024-06-29 16:11:30.585\u001b[0m | \u001b[1mINFO    \u001b[0m | \u001b[36mmltrainer.trainer\u001b[0m:\u001b[36mreport\u001b[0m:\u001b[36m191\u001b[0m - \u001b[1mEpoch 8 train 0.0649 test 0.1158 metric ['0.9590', '0.9590', '0.9487', '0.9590', '0.9606']\u001b[0m\n",
      "100%|\u001b[38;2;30;71;6m██████████\u001b[0m| 363/363 [03:14<00:00,  1.86it/s]]\n",
      "\u001b[32m2024-06-29 16:14:54.061\u001b[0m | \u001b[1mINFO    \u001b[0m | \u001b[36mmltrainer.trainer\u001b[0m:\u001b[36mreport\u001b[0m:\u001b[36m191\u001b[0m - \u001b[1mEpoch 9 train 0.0535 test 0.1331 metric ['0.9590', '0.9590', '0.9481', '0.9590', '0.9616']\u001b[0m\n",
      "100%|\u001b[38;2;30;71;6m██████████\u001b[0m| 10/10 [2:52:13<00:00, 1033.40s/it]\n"
     ]
    }
   ],
   "source": [
    "from mltrainer import Trainer, TrainerSettings, ReportTypes\n",
    "import torch.optim as optim\n",
    "\n",
    "loss_fn = torch.nn.CrossEntropyLoss()\n",
    "optimizer = optim.Adam\n",
    "scheduler = optim.lr_scheduler.ReduceLROnPlateau\n",
    "\n",
    "with mlflow.start_run():\n",
    "\n",
    "    settings = TrainerSettings(\n",
    "        epochs=10,\n",
    "        metrics=[accuracy, f1micro, f1macro, precision, recall],\n",
    "        logdir=\"heart1D\",\n",
    "        train_steps=len(trainstreamer),\n",
    "        valid_steps=len(teststreamer),\n",
    "        reporttypes=[ReportTypes.MLFLOW],\n",
    "        scheduler_kwargs={\"factor\": 0.5, \"patience\": 2},\n",
    "        earlystop_kwargs=None,\n",
    "    )\n",
    "\n",
    "    mlflow.set_tag(\"model\", \"Gru_Attention\")\n",
    "    mlflow.set_tag(\"dataset\", \"heart_small_binary\")\n",
    "    mlflow.log_params(config)\n",
    "    mlflow.log_param(\"epochs\", settings.epochs)\n",
    "    mlflow.log_param(\"optimizer\", str(optimizer))\n",
    "    mlflow.log_param(\"scheduler\", \"Reduce on Plateau\")\n",
    "    mlflow.log_param(\"earlystop\", \"None\")\n",
    "    mlflow.log_params(settings.optimizer_kwargs)\n",
    "\n",
    "    trainer = Trainer(\n",
    "        model=model,\n",
    "        settings=settings,\n",
    "        loss_fn=loss_fn,\n",
    "        optimizer=optimizer,\n",
    "        traindataloader=trainstreamer.stream(),\n",
    "        validdataloader=teststreamer.stream(),\n",
    "        scheduler=optim.lr_scheduler.ReduceLROnPlateau,\n",
    "    )\n",
    "    trainer.loop()"
   ]
  },
  {
   "cell_type": "code",
   "execution_count": 40,
   "metadata": {},
   "outputs": [
    {
     "data": {
      "text/plain": [
       "[Text(0.5, 23.52222222222222, 'Predicted'),\n",
       " Text(50.722222222222214, 0.5, 'Target')]"
      ]
     },
     "execution_count": 40,
     "metadata": {},
     "output_type": "execute_result"
    },
    {
     "data": {
      "image/png": "[encoded data removed]",
      "text/plain": [
       "<Figure size 640x480 with 2 Axes>"
      ]
     },
     "metadata": {},
     "output_type": "display_data"
    }
   ],
   "source": [
    "import seaborn as sns\n",
    "import numpy as np\n",
    "\n",
    "y_true = []\n",
    "y_pred = []\n",
    "\n",
    "testdata = teststreamer.stream()\n",
    "for _ in range(len(teststreamer)):\n",
    "    X, y = next(testdata)\n",
    "    yhat = model(X)\n",
    "    yhat = yhat.argmax(dim=1)  # we get the one with the highest probability\n",
    "    y_pred.append(yhat.cpu().tolist())\n",
    "    y_true.append(y.cpu().tolist())\n",
    "\n",
    "yhat = [x for y in y_pred for x in y]\n",
    "y = [x for y in y_true for x in y]\n",
    "\n",
    "cfm = confusion_matrix(y, yhat)\n",
    "# cfm = cfm / np.sum(cfm, axis=1, keepdims=True)\n",
    "\n",
    "plot = sns.heatmap(cfm, annot=cfm, fmt=\".3f\")\n",
    "plot.set(xlabel=\"Predicted\", ylabel=\"Target\")"
   ]
  },
  {
   "cell_type": "code",
   "execution_count": 41,
   "metadata": {},
   "outputs": [
    {
     "name": "stdout",
     "output_type": "stream",
     "text": [
      "Recall: 0.954\n"
     ]
    }
   ],
   "source": [
    "# Haal de TP en FN waarden uit de confusion matrix\n",
    "TP = cfm[1, 1]  # True Positives\n",
    "FN = cfm[1, 0]  # False Negatives\n",
    "\n",
    "# Bereken de Recall\n",
    "recall = TP / (TP + FN)\n",
    "print(f\"Recall: {recall:.3f}\")"
   ]
  }
 ],
 "metadata": {
  "kernelspec": {
   "display_name": ".venv",
   "language": "python",
   "name": "python3"
  },
  "language_info": {
   "codemirror_mode": {
    "name": "ipython",
    "version": 3
   },
   "file_extension": ".py",
   "mimetype": "text/x-python",
   "name": "python",
   "nbconvert_exporter": "python",
   "pygments_lexer": "ipython3",
   "version": "3.11.5"
  }
 },
 "nbformat": 4,
 "nbformat_minor": 2
}
